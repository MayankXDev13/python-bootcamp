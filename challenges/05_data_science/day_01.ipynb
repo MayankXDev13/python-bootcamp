{
 "cells": [
  {
   "cell_type": "markdown",
   "id": "3de694de",
   "metadata": {},
   "source": [
    "# Welcome to python notebook\n",
    "### Day 1\n",
    "\n",
    "This is where you can write your notes"
   ]
  },
  {
   "cell_type": "code",
   "execution_count": 1,
   "id": "f759b05f",
   "metadata": {},
   "outputs": [
    {
     "name": "stdout",
     "output_type": "stream",
     "text": [
      "Mayank\n"
     ]
    }
   ],
   "source": [
    "print(\"Mayank\")"
   ]
  },
  {
   "cell_type": "code",
   "execution_count": 10,
   "id": "2adcadd8",
   "metadata": {},
   "outputs": [
    {
     "name": "stdout",
     "output_type": "stream",
     "text": [
      "this value is 0\n",
      "this value is 1\n",
      "this value is 2\n",
      "this value is 3\n",
      "this value is 4\n"
     ]
    }
   ],
   "source": [
    "for i in range(5):\n",
    "    print(f\"this value is {i}\")"
   ]
  }
 ],
 "metadata": {
  "kernelspec": {
   "display_name": ".venv",
   "language": "python",
   "name": "python3"
  },
  "language_info": {
   "codemirror_mode": {
    "name": "ipython",
    "version": 3
   },
   "file_extension": ".py",
   "mimetype": "text/x-python",
   "name": "python",
   "nbconvert_exporter": "python",
   "pygments_lexer": "ipython3",
   "version": "3.12.7"
  }
 },
 "nbformat": 4,
 "nbformat_minor": 5
}
